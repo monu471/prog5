{
 "cells": [
  {
   "cell_type": "code",
   "execution_count": null,
   "id": "802509ed",
   "metadata": {},
   "outputs": [],
   "source": [
    "# Write a Python Program to Find LCM?\n",
    "a = int(input(\"enter a number\"))\n",
    "b = int(input(\"enter a number\"))\n",
    "l = []\n",
    "m = []\n",
    "for i in range(1,1000):\n",
    "    l.append(i*a)\n",
    "for i in range(1,1000):\n",
    "    m.append(i*b)\n",
    "lcm = [c for c in l if c in m]\n",
    "print(\"lcm of number is\",lcm[0])\n"
   ]
  },
  {
   "cell_type": "code",
   "execution_count": null,
   "id": "8a8d2502",
   "metadata": {},
   "outputs": [],
   "source": [
    "# Write a Python Program to Find hcf?\n",
    "a = int(input(\"enter a number\"))\n",
    "b = int(input(\"enter a number\"))\n",
    "l = []\n",
    "m = []\n",
    "for i in range(1,a):\n",
    "    if a%i==0:\n",
    "         l.append(i)\n",
    "for i in range(1,b):\n",
    "    if b%i ==0:\n",
    "         m.append(i)\n",
    "h = [c for c in l if c in m]\n",
    "h.reverse()\n",
    "print(\"hcf is\",h[0])"
   ]
  },
  {
   "cell_type": "code",
   "execution_count": null,
   "id": "252efafc",
   "metadata": {},
   "outputs": [],
   "source": [
    "# Write a Python Program to Convert Decimal to Binary, Octal and Hexadecimal?\n",
    "a = int(input(\"enter a number\"))\n",
    "l = []\n",
    "b = 0\n",
    "while(a!=0):\n",
    "    temp = a%2\n",
    "    l.append(temp)\n",
    "    a = a//2\n",
    "l.reverse()\n",
    "print(l)\n",
    "    "
   ]
  },
  {
   "cell_type": "code",
   "execution_count": null,
   "id": "bf4a8ac4",
   "metadata": {},
   "outputs": [],
   "source": [
    "# Write a Python Program to Convert Decimal to Octal ?\n",
    "a = int(input(\"enter a number\"))\n",
    "l = []\n",
    "b = 0\n",
    "while(a!=0):\n",
    "    temp = a%8\n",
    "    l.append(temp)\n",
    "    a = a//8\n",
    "l.reverse()\n",
    "print(l)\n",
    "    \n"
   ]
  },
  {
   "cell_type": "code",
   "execution_count": null,
   "id": "d5c8320e",
   "metadata": {},
   "outputs": [],
   "source": [
    "#  Write a Python Program to Convert Decimal to hexadecimal ?\n",
    "a = int(input(\"enter a number\"))\n",
    "l = []\n",
    "b = 0\n",
    "while(a!=0):\n",
    "    temp = a%16\n",
    "    if temp>=10:\n",
    "        if temp == 10:\n",
    "            l.append(\"A\")\n",
    "        if temp ==11:\n",
    "            l.append(\"B\")\n",
    "        if temp ==12:\n",
    "            l.append(\"C\")\n",
    "        if temp == 13:\n",
    "            l.append(\"D\")\n",
    "        if temp == 14:\n",
    "            l.append(\"E\")\n",
    "        if temp == 15:\n",
    "            l.append(\"F\")\n",
    "    else:\n",
    "        l.append(temp)\n",
    "    a = a//16\n",
    "l.reverse()\n",
    "print(l)\n",
    "    "
   ]
  },
  {
   "cell_type": "code",
   "execution_count": null,
   "id": "f4c58fc4",
   "metadata": {},
   "outputs": [],
   "source": [
    "# Write a Python Program To Find ASCII value of a character?\n",
    "char = input(\"enter a charecter\")\n",
    "char = char.lower()\n",
    "l = {\"a\":65,\"b\":66,\"c\":67,\"d\":68,\"e\":69,\"f\":70,\"g\":71,\"h\":72,\"i\":73,\"j\":74,\"k\":75,\"l\":76,\"m\":77,\"n\":78,\"o\":79,\"p\":80,\"q\":81,\"r\":82\n",
    "     ,\"s\":83,\"t\":84,\"u\":85,\"v\":86,\"w\":87,\"x\":88,\"y\":89,\"z\":90}\n",
    "for i in l:\n",
    "    if i ==char:\n",
    "        print(l[i])"
   ]
  },
  {
   "cell_type": "code",
   "execution_count": null,
   "id": "32e3c321",
   "metadata": {},
   "outputs": [],
   "source": [
    "# Write a Python Program to Make a Simple Calculator with 4 basic mathematical operations?\n",
    "def calc(a,b):\n",
    "        try:\n",
    "            return(a+b,a*b,a-b,a/b)\n",
    "        except Exception as e:\n",
    "            print(e)\n",
    "            print(\"b can't be equal to 0\")\n",
    "            \n",
    "\n",
    "calc(10000000,556565)"
   ]
  },
  {
   "cell_type": "code",
   "execution_count": null,
   "id": "7fdea1e5",
   "metadata": {},
   "outputs": [],
   "source": []
  }
 ],
 "metadata": {
  "kernelspec": {
   "display_name": "Python 3 (ipykernel)",
   "language": "python",
   "name": "python3"
  },
  "language_info": {
   "codemirror_mode": {
    "name": "ipython",
    "version": 3
   },
   "file_extension": ".py",
   "mimetype": "text/x-python",
   "name": "python",
   "nbconvert_exporter": "python",
   "pygments_lexer": "ipython3",
   "version": "3.9.12"
  }
 },
 "nbformat": 4,
 "nbformat_minor": 5
}
